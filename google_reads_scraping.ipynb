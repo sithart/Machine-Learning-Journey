{
 "cells": [
  {
   "cell_type": "code",
   "execution_count": 1,
   "id": "c6e0aed8",
   "metadata": {},
   "outputs": [],
   "source": [
    "from bs4 import BeautifulSoup\n",
    "import requests\n",
    "import pandas as pd"
   ]
  },
  {
   "cell_type": "code",
   "execution_count": 2,
   "id": "92cf639c",
   "metadata": {},
   "outputs": [],
   "source": [
    "url = 'https://www.goodreads.com/list/show/12362.All_Time_Favorite_Romance_Novels?page=1'"
   ]
  },
  {
   "cell_type": "code",
   "execution_count": 15,
   "id": "98c696ce",
   "metadata": {},
   "outputs": [
    {
     "name": "stdout",
     "output_type": "stream",
     "text": [
      "100\n",
      "Pride and Prejudice\n",
      "Jane Austen\n",
      "['4.28', 'avg', 'rating', '—', '3,851,087', 'ratings']\n",
      "avg_score 4.28\n",
      "rates 3,851,087\n",
      "scores 237,202,\n",
      "vote 2,400\n"
     ]
    }
   ],
   "source": [
    "response = requests.get(url)\n",
    "status_code = response.status_code\n",
    "if status_code == 200:\n",
    "    html = response.content\n",
    "    html_soup = BeautifulSoup(html, 'html.parser')\n",
    "    book_container = html_soup.find_all('tr', itemtype=\"http://schema.org/Book\")\n",
    "    print(len(book_container))\n",
    "    first_book = book_container[0]\n",
    "    name = first_book.find('a', class_=\"bookTitle\").text.strip()\n",
    "    print(name)\n",
    "    authors = first_book.find('a', class_=\"authorName\").text.strip()\n",
    "    print(authors)\n",
    "    scoring = first_book.find('span', class_='greyText smallText uitext').text.strip().split()\n",
    "    print(scoring)\n",
    "    avg_score = scoring[0]\n",
    "    rates = scoring[4]\n",
    "    print('avg_score', avg_score)\n",
    "    print('rates', rates)\n",
    "    voted = first_book.find('span', class_=\"smallText uitext\").text.strip().split()\n",
    "    scores = voted[1]\n",
    "    print('scores', scores)\n",
    "    vote = voted[3]\n",
    "    print('vote', vote)\n",
    "else:\n",
    "    print(f'Status Code Error {status_code}')"
   ]
  },
  {
   "cell_type": "code",
   "execution_count": 16,
   "id": "9fbf720a",
   "metadata": {},
   "outputs": [
    {
     "name": "stdout",
     "output_type": "stream",
     "text": [
      "https://www.goodreads.com/list/show/12362.All_Time_Favorite_Romance_Novels?page=1\n",
      "https://www.goodreads.com/list/show/12362.All_Time_Favorite_Romance_Novels?page=2\n",
      "https://www.goodreads.com/list/show/12362.All_Time_Favorite_Romance_Novels?page=3\n",
      "https://www.goodreads.com/list/show/12362.All_Time_Favorite_Romance_Novels?page=4\n",
      "https://www.goodreads.com/list/show/12362.All_Time_Favorite_Romance_Novels?page=5\n",
      "https://www.goodreads.com/list/show/12362.All_Time_Favorite_Romance_Novels?page=6\n",
      "https://www.goodreads.com/list/show/12362.All_Time_Favorite_Romance_Novels?page=7\n",
      "https://www.goodreads.com/list/show/12362.All_Time_Favorite_Romance_Novels?page=8\n",
      "https://www.goodreads.com/list/show/12362.All_Time_Favorite_Romance_Novels?page=9\n",
      "https://www.goodreads.com/list/show/12362.All_Time_Favorite_Romance_Novels?page=10\n",
      "https://www.goodreads.com/list/show/12362.All_Time_Favorite_Romance_Novels?page=11\n",
      "https://www.goodreads.com/list/show/12362.All_Time_Favorite_Romance_Novels?page=12\n",
      "https://www.goodreads.com/list/show/12362.All_Time_Favorite_Romance_Novels?page=13\n",
      "https://www.goodreads.com/list/show/12362.All_Time_Favorite_Romance_Novels?page=14\n",
      "https://www.goodreads.com/list/show/12362.All_Time_Favorite_Romance_Novels?page=15\n",
      "https://www.goodreads.com/list/show/12362.All_Time_Favorite_Romance_Novels?page=16\n",
      "https://www.goodreads.com/list/show/12362.All_Time_Favorite_Romance_Novels?page=17\n",
      "https://www.goodreads.com/list/show/12362.All_Time_Favorite_Romance_Novels?page=18\n",
      "https://www.goodreads.com/list/show/12362.All_Time_Favorite_Romance_Novels?page=19\n",
      "https://www.goodreads.com/list/show/12362.All_Time_Favorite_Romance_Novels?page=20\n",
      "https://www.goodreads.com/list/show/12362.All_Time_Favorite_Romance_Novels?page=21\n",
      "https://www.goodreads.com/list/show/12362.All_Time_Favorite_Romance_Novels?page=22\n",
      "https://www.goodreads.com/list/show/12362.All_Time_Favorite_Romance_Novels?page=23\n",
      "https://www.goodreads.com/list/show/12362.All_Time_Favorite_Romance_Novels?page=24\n",
      "https://www.goodreads.com/list/show/12362.All_Time_Favorite_Romance_Novels?page=25\n",
      "https://www.goodreads.com/list/show/12362.All_Time_Favorite_Romance_Novels?page=26\n",
      "https://www.goodreads.com/list/show/12362.All_Time_Favorite_Romance_Novels?page=27\n",
      "https://www.goodreads.com/list/show/12362.All_Time_Favorite_Romance_Novels?page=28\n",
      "https://www.goodreads.com/list/show/12362.All_Time_Favorite_Romance_Novels?page=29\n",
      "https://www.goodreads.com/list/show/12362.All_Time_Favorite_Romance_Novels?page=30\n",
      "https://www.goodreads.com/list/show/12362.All_Time_Favorite_Romance_Novels?page=31\n",
      "https://www.goodreads.com/list/show/12362.All_Time_Favorite_Romance_Novels?page=32\n",
      "https://www.goodreads.com/list/show/12362.All_Time_Favorite_Romance_Novels?page=33\n",
      "https://www.goodreads.com/list/show/12362.All_Time_Favorite_Romance_Novels?page=34\n",
      "https://www.goodreads.com/list/show/12362.All_Time_Favorite_Romance_Novels?page=35\n",
      "https://www.goodreads.com/list/show/12362.All_Time_Favorite_Romance_Novels?page=36\n",
      "https://www.goodreads.com/list/show/12362.All_Time_Favorite_Romance_Novels?page=37\n",
      "https://www.goodreads.com/list/show/12362.All_Time_Favorite_Romance_Novels?page=38\n",
      "https://www.goodreads.com/list/show/12362.All_Time_Favorite_Romance_Novels?page=39\n",
      "https://www.goodreads.com/list/show/12362.All_Time_Favorite_Romance_Novels?page=40\n",
      "https://www.goodreads.com/list/show/12362.All_Time_Favorite_Romance_Novels?page=41\n",
      "https://www.goodreads.com/list/show/12362.All_Time_Favorite_Romance_Novels?page=42\n",
      "https://www.goodreads.com/list/show/12362.All_Time_Favorite_Romance_Novels?page=43\n",
      "https://www.goodreads.com/list/show/12362.All_Time_Favorite_Romance_Novels?page=44\n",
      "https://www.goodreads.com/list/show/12362.All_Time_Favorite_Romance_Novels?page=45\n",
      "https://www.goodreads.com/list/show/12362.All_Time_Favorite_Romance_Novels?page=46\n",
      "https://www.goodreads.com/list/show/12362.All_Time_Favorite_Romance_Novels?page=47\n",
      "https://www.goodreads.com/list/show/12362.All_Time_Favorite_Romance_Novels?page=48\n",
      "https://www.goodreads.com/list/show/12362.All_Time_Favorite_Romance_Novels?page=49\n",
      "https://www.goodreads.com/list/show/12362.All_Time_Favorite_Romance_Novels?page=50\n"
     ]
    }
   ],
   "source": [
    "page = 1\n",
    "names = []\n",
    "ratings = []\n",
    "avgscores = []\n",
    "author = []\n",
    "score = []\n",
    "votes = []\n",
    "while page != 51:\n",
    "    url = f\"https://www.goodreads.com/list/show/12362.All_Time_Favorite_Romance_Novels?page={page}\"\n",
    "    response = requests.get(url)\n",
    "    status_code = response.status_code\n",
    "    if status_code == 200:\n",
    "        html = response.content\n",
    "        html_soup = BeautifulSoup(html, 'html.parser')\n",
    "        book_container = html_soup.find_all('tr', itemtype=\"http://schema.org/Book\")\n",
    "        print(len(book_container))\n",
    "        for container in book_container:\n",
    "            if container.find('td', width='100%') is not None:\n",
    "                name = container.find('a', class_=\"bookTitle\").text.strip()\n",
    "                names.append(name)\n",
    "                authors = container.find('a', class_=\"authorName\").text.strip()\n",
    "                author.append(authors)\n",
    "                scoring = container.find('span', class_='greyText smallText uitext').text.strip().split()\n",
    "                avg_score = scoring[0]\n",
    "                avgscores.append(avg_score)\n",
    "                rates = scoring[4]\n",
    "                ratings.append(rates)\n",
    "                voted = container.find('span', class_=\"smallText uitext\").text.strip().split()\n",
    "                scores = voted[1]\n",
    "                scoring.append(scores)\n",
    "                vote = voted[3]\n",
    "                votes.append(vote)\n",
    "        page += 1\n",
    "    else:\n",
    "        print(f'Status Code Error {status_code}')"
   ]
  },
  {
   "cell_type": "code",
   "execution_count": null,
   "id": "0cfd084d",
   "metadata": {},
   "outputs": [],
   "source": []
  }
 ],
 "metadata": {
  "kernelspec": {
   "display_name": "Python 3 (ipykernel)",
   "language": "python",
   "name": "python3"
  },
  "language_info": {
   "codemirror_mode": {
    "name": "ipython",
    "version": 3
   },
   "file_extension": ".py",
   "mimetype": "text/x-python",
   "name": "python",
   "nbconvert_exporter": "python",
   "pygments_lexer": "ipython3",
   "version": "3.10.8"
  }
 },
 "nbformat": 4,
 "nbformat_minor": 5
}
